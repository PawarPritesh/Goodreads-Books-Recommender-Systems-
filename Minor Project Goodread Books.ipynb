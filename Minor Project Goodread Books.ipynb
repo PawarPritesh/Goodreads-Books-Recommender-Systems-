{
 "cells": [
  {
   "cell_type": "code",
   "execution_count": 1,
   "id": "a3d05252",
   "metadata": {
    "execution": {
     "iopub.execute_input": "2021-12-09T06:38:50.423922Z",
     "iopub.status.busy": "2021-12-09T06:38:50.422990Z",
     "iopub.status.idle": "2021-12-09T06:38:51.459721Z",
     "shell.execute_reply": "2021-12-09T06:38:51.458961Z",
     "shell.execute_reply.started": "2021-12-09T05:53:48.299807Z"
    },
    "papermill": {
     "duration": 1.067011,
     "end_time": "2021-12-09T06:38:51.459906",
     "exception": false,
     "start_time": "2021-12-09T06:38:50.392895",
     "status": "completed"
    },
    "tags": []
   },
   "outputs": [],
   "source": [
    "import numpy as np \n",
    "import pandas as pd\n",
    "import matplotlib.pyplot as plt\n",
    "import seaborn as sns\n",
    "%matplotlib inline"
   ]
  },
  {
   "cell_type": "code",
   "execution_count": 2,
   "id": "d6204697",
   "metadata": {
    "execution": {
     "iopub.execute_input": "2021-12-09T06:38:51.500353Z",
     "iopub.status.busy": "2021-12-09T06:38:51.499775Z",
     "iopub.status.idle": "2021-12-09T06:38:51.771868Z",
     "shell.execute_reply": "2021-12-09T06:38:51.770576Z",
     "shell.execute_reply.started": "2021-12-09T05:53:49.357586Z"
    },
    "papermill": {
     "duration": 0.293108,
     "end_time": "2021-12-09T06:38:51.772031",
     "exception": false,
     "start_time": "2021-12-09T06:38:51.478923",
     "status": "completed"
    },
    "tags": []
   },
   "outputs": [],
   "source": [
    "from sklearn.model_selection import train_test_split\n",
    "from sklearn.preprocessing import MinMaxScaler"
   ]
  },
  {
   "cell_type": "code",
   "execution_count": 3,
   "id": "871da024",
   "metadata": {
    "execution": {
     "iopub.execute_input": "2021-12-09T06:38:51.812991Z",
     "iopub.status.busy": "2021-12-09T06:38:51.812287Z",
     "iopub.status.idle": "2021-12-09T06:38:52.059618Z",
     "shell.execute_reply": "2021-12-09T06:38:52.058975Z",
     "shell.execute_reply.started": "2021-12-09T05:53:49.535839Z"
    },
    "papermill": {
     "duration": 0.269705,
     "end_time": "2021-12-09T06:38:52.059779",
     "exception": false,
     "start_time": "2021-12-09T06:38:51.790074",
     "status": "completed"
    },
    "tags": []
   },
   "outputs": [],
   "source": [
    "from sklearn.cluster import KMeans\n",
    "from sklearn import neighbors"
   ]
  },
  {
   "cell_type": "code",
   "execution_count": 4,
   "id": "20cea513",
   "metadata": {
    "execution": {
     "iopub.execute_input": "2021-12-09T06:38:52.102212Z",
     "iopub.status.busy": "2021-12-09T06:38:52.101565Z",
     "iopub.status.idle": "2021-12-09T06:38:52.180751Z",
     "shell.execute_reply": "2021-12-09T06:38:52.180240Z",
     "shell.execute_reply.started": "2021-12-09T05:53:49.761342Z"
    },
    "papermill": {
     "duration": 0.10226,
     "end_time": "2021-12-09T06:38:52.180888",
     "exception": false,
     "start_time": "2021-12-09T06:38:52.078628",
     "status": "completed"
    },
    "tags": []
   },
   "outputs": [
    {
     "name": "stderr",
     "output_type": "stream",
     "text": [
      "C:\\Users\\hp\\AppData\\Local\\Temp\\ipykernel_17128\\1092830223.py:1: FutureWarning: The error_bad_lines argument has been deprecated and will be removed in a future version. Use on_bad_lines in the future.\n",
      "\n",
      "\n",
      "  book_df = pd.read_csv('books.csv', error_bad_lines = False)\n",
      "b'Skipping line 3350: expected 12 fields, saw 13\\nSkipping line 4704: expected 12 fields, saw 13\\nSkipping line 5879: expected 12 fields, saw 13\\nSkipping line 8981: expected 12 fields, saw 13\\n'\n"
     ]
    }
   ],
   "source": [
    "book_df = pd.read_csv('books.csv', error_bad_lines = False)"
   ]
  },
  {
   "cell_type": "code",
   "execution_count": 5,
   "id": "e90f5497",
   "metadata": {
    "execution": {
     "iopub.execute_input": "2021-12-09T06:38:52.221827Z",
     "iopub.status.busy": "2021-12-09T06:38:52.221199Z",
     "iopub.status.idle": "2021-12-09T06:38:52.242414Z",
     "shell.execute_reply": "2021-12-09T06:38:52.242928Z",
     "shell.execute_reply.started": "2021-12-09T05:53:49.849011Z"
    },
    "papermill": {
     "duration": 0.043187,
     "end_time": "2021-12-09T06:38:52.243092",
     "exception": false,
     "start_time": "2021-12-09T06:38:52.199905",
     "status": "completed"
    },
    "tags": []
   },
   "outputs": [
    {
     "data": {
      "text/html": [
       "<div>\n",
       "<style scoped>\n",
       "    .dataframe tbody tr th:only-of-type {\n",
       "        vertical-align: middle;\n",
       "    }\n",
       "\n",
       "    .dataframe tbody tr th {\n",
       "        vertical-align: top;\n",
       "    }\n",
       "\n",
       "    .dataframe thead th {\n",
       "        text-align: right;\n",
       "    }\n",
       "</style>\n",
       "<table border=\"1\" class=\"dataframe\">\n",
       "  <thead>\n",
       "    <tr style=\"text-align: right;\">\n",
       "      <th></th>\n",
       "      <th>bookID</th>\n",
       "      <th>title</th>\n",
       "      <th>authors</th>\n",
       "      <th>average_rating</th>\n",
       "      <th>isbn</th>\n",
       "      <th>isbn13</th>\n",
       "      <th>language_code</th>\n",
       "      <th>num_pages</th>\n",
       "      <th>ratings_count</th>\n",
       "      <th>text_reviews_count</th>\n",
       "      <th>publication_date</th>\n",
       "      <th>publisher</th>\n",
       "    </tr>\n",
       "  </thead>\n",
       "  <tbody>\n",
       "    <tr>\n",
       "      <th>0</th>\n",
       "      <td>1</td>\n",
       "      <td>Harry Potter and the Half-Blood Prince (Harry ...</td>\n",
       "      <td>J.K. Rowling/Mary GrandPré</td>\n",
       "      <td>4.57</td>\n",
       "      <td>0439785960</td>\n",
       "      <td>9780439785969</td>\n",
       "      <td>eng</td>\n",
       "      <td>652</td>\n",
       "      <td>2095690</td>\n",
       "      <td>27591</td>\n",
       "      <td>9/16/2006</td>\n",
       "      <td>Scholastic Inc.</td>\n",
       "    </tr>\n",
       "    <tr>\n",
       "      <th>1</th>\n",
       "      <td>2</td>\n",
       "      <td>Harry Potter and the Order of the Phoenix (Har...</td>\n",
       "      <td>J.K. Rowling/Mary GrandPré</td>\n",
       "      <td>4.49</td>\n",
       "      <td>0439358078</td>\n",
       "      <td>9780439358071</td>\n",
       "      <td>eng</td>\n",
       "      <td>870</td>\n",
       "      <td>2153167</td>\n",
       "      <td>29221</td>\n",
       "      <td>9/1/2004</td>\n",
       "      <td>Scholastic Inc.</td>\n",
       "    </tr>\n",
       "    <tr>\n",
       "      <th>2</th>\n",
       "      <td>4</td>\n",
       "      <td>Harry Potter and the Chamber of Secrets (Harry...</td>\n",
       "      <td>J.K. Rowling</td>\n",
       "      <td>4.42</td>\n",
       "      <td>0439554896</td>\n",
       "      <td>9780439554893</td>\n",
       "      <td>eng</td>\n",
       "      <td>352</td>\n",
       "      <td>6333</td>\n",
       "      <td>244</td>\n",
       "      <td>11/1/2003</td>\n",
       "      <td>Scholastic</td>\n",
       "    </tr>\n",
       "    <tr>\n",
       "      <th>3</th>\n",
       "      <td>5</td>\n",
       "      <td>Harry Potter and the Prisoner of Azkaban (Harr...</td>\n",
       "      <td>J.K. Rowling/Mary GrandPré</td>\n",
       "      <td>4.56</td>\n",
       "      <td>043965548X</td>\n",
       "      <td>9780439655484</td>\n",
       "      <td>eng</td>\n",
       "      <td>435</td>\n",
       "      <td>2339585</td>\n",
       "      <td>36325</td>\n",
       "      <td>5/1/2004</td>\n",
       "      <td>Scholastic Inc.</td>\n",
       "    </tr>\n",
       "    <tr>\n",
       "      <th>4</th>\n",
       "      <td>8</td>\n",
       "      <td>Harry Potter Boxed Set  Books 1-5 (Harry Potte...</td>\n",
       "      <td>J.K. Rowling/Mary GrandPré</td>\n",
       "      <td>4.78</td>\n",
       "      <td>0439682584</td>\n",
       "      <td>9780439682589</td>\n",
       "      <td>eng</td>\n",
       "      <td>2690</td>\n",
       "      <td>41428</td>\n",
       "      <td>164</td>\n",
       "      <td>9/13/2004</td>\n",
       "      <td>Scholastic</td>\n",
       "    </tr>\n",
       "  </tbody>\n",
       "</table>\n",
       "</div>"
      ],
      "text/plain": [
       "   bookID                                              title  \\\n",
       "0       1  Harry Potter and the Half-Blood Prince (Harry ...   \n",
       "1       2  Harry Potter and the Order of the Phoenix (Har...   \n",
       "2       4  Harry Potter and the Chamber of Secrets (Harry...   \n",
       "3       5  Harry Potter and the Prisoner of Azkaban (Harr...   \n",
       "4       8  Harry Potter Boxed Set  Books 1-5 (Harry Potte...   \n",
       "\n",
       "                      authors  average_rating        isbn         isbn13  \\\n",
       "0  J.K. Rowling/Mary GrandPré            4.57  0439785960  9780439785969   \n",
       "1  J.K. Rowling/Mary GrandPré            4.49  0439358078  9780439358071   \n",
       "2                J.K. Rowling            4.42  0439554896  9780439554893   \n",
       "3  J.K. Rowling/Mary GrandPré            4.56  043965548X  9780439655484   \n",
       "4  J.K. Rowling/Mary GrandPré            4.78  0439682584  9780439682589   \n",
       "\n",
       "  language_code    num_pages  ratings_count  text_reviews_count  \\\n",
       "0           eng          652        2095690               27591   \n",
       "1           eng          870        2153167               29221   \n",
       "2           eng          352           6333                 244   \n",
       "3           eng          435        2339585               36325   \n",
       "4           eng         2690          41428                 164   \n",
       "\n",
       "  publication_date        publisher  \n",
       "0        9/16/2006  Scholastic Inc.  \n",
       "1         9/1/2004  Scholastic Inc.  \n",
       "2        11/1/2003       Scholastic  \n",
       "3         5/1/2004  Scholastic Inc.  \n",
       "4        9/13/2004       Scholastic  "
      ]
     },
     "execution_count": 5,
     "metadata": {},
     "output_type": "execute_result"
    }
   ],
   "source": [
    "book_df.head()"
   ]
  },
  {
   "cell_type": "code",
   "execution_count": 6,
   "id": "9e1db263",
   "metadata": {
    "execution": {
     "iopub.execute_input": "2021-12-09T06:38:52.287919Z",
     "iopub.status.busy": "2021-12-09T06:38:52.287284Z",
     "iopub.status.idle": "2021-12-09T06:38:52.311970Z",
     "shell.execute_reply": "2021-12-09T06:38:52.312494Z",
     "shell.execute_reply.started": "2021-12-09T05:53:49.871624Z"
    },
    "papermill": {
     "duration": 0.0507,
     "end_time": "2021-12-09T06:38:52.312693",
     "exception": false,
     "start_time": "2021-12-09T06:38:52.261993",
     "status": "completed"
    },
    "tags": []
   },
   "outputs": [
    {
     "name": "stdout",
     "output_type": "stream",
     "text": [
      "<class 'pandas.core.frame.DataFrame'>\n",
      "RangeIndex: 11123 entries, 0 to 11122\n",
      "Data columns (total 12 columns):\n",
      " #   Column              Non-Null Count  Dtype  \n",
      "---  ------              --------------  -----  \n",
      " 0   bookID              11123 non-null  int64  \n",
      " 1   title               11123 non-null  object \n",
      " 2   authors             11123 non-null  object \n",
      " 3   average_rating      11123 non-null  float64\n",
      " 4   isbn                11123 non-null  object \n",
      " 5   isbn13              11123 non-null  int64  \n",
      " 6   language_code       11123 non-null  object \n",
      " 7     num_pages         11123 non-null  int64  \n",
      " 8   ratings_count       11123 non-null  int64  \n",
      " 9   text_reviews_count  11123 non-null  int64  \n",
      " 10  publication_date    11123 non-null  object \n",
      " 11  publisher           11123 non-null  object \n",
      "dtypes: float64(1), int64(5), object(6)\n",
      "memory usage: 1.0+ MB\n"
     ]
    }
   ],
   "source": [
    "book_df.info()"
   ]
  },
  {
   "cell_type": "code",
   "execution_count": 7,
   "id": "c7c253b8",
   "metadata": {
    "execution": {
     "iopub.execute_input": "2021-12-09T06:38:52.355426Z",
     "iopub.status.busy": "2021-12-09T06:38:52.354807Z",
     "iopub.status.idle": "2021-12-09T06:38:52.385197Z",
     "shell.execute_reply": "2021-12-09T06:38:52.385690Z",
     "shell.execute_reply.started": "2021-12-09T05:53:49.899896Z"
    },
    "papermill": {
     "duration": 0.052874,
     "end_time": "2021-12-09T06:38:52.385865",
     "exception": false,
     "start_time": "2021-12-09T06:38:52.332991",
     "status": "completed"
    },
    "tags": []
   },
   "outputs": [
    {
     "data": {
      "text/html": [
       "<div>\n",
       "<style scoped>\n",
       "    .dataframe tbody tr th:only-of-type {\n",
       "        vertical-align: middle;\n",
       "    }\n",
       "\n",
       "    .dataframe tbody tr th {\n",
       "        vertical-align: top;\n",
       "    }\n",
       "\n",
       "    .dataframe thead th {\n",
       "        text-align: right;\n",
       "    }\n",
       "</style>\n",
       "<table border=\"1\" class=\"dataframe\">\n",
       "  <thead>\n",
       "    <tr style=\"text-align: right;\">\n",
       "      <th></th>\n",
       "      <th>bookID</th>\n",
       "      <th>average_rating</th>\n",
       "      <th>isbn13</th>\n",
       "      <th>num_pages</th>\n",
       "      <th>ratings_count</th>\n",
       "      <th>text_reviews_count</th>\n",
       "    </tr>\n",
       "  </thead>\n",
       "  <tbody>\n",
       "    <tr>\n",
       "      <th>count</th>\n",
       "      <td>11123.000000</td>\n",
       "      <td>11123.000000</td>\n",
       "      <td>1.112300e+04</td>\n",
       "      <td>11123.000000</td>\n",
       "      <td>1.112300e+04</td>\n",
       "      <td>11123.000000</td>\n",
       "    </tr>\n",
       "    <tr>\n",
       "      <th>mean</th>\n",
       "      <td>21310.856963</td>\n",
       "      <td>3.934075</td>\n",
       "      <td>9.759880e+12</td>\n",
       "      <td>336.405556</td>\n",
       "      <td>1.794285e+04</td>\n",
       "      <td>542.048099</td>\n",
       "    </tr>\n",
       "    <tr>\n",
       "      <th>std</th>\n",
       "      <td>13094.727252</td>\n",
       "      <td>0.350485</td>\n",
       "      <td>4.429758e+11</td>\n",
       "      <td>241.152626</td>\n",
       "      <td>1.124992e+05</td>\n",
       "      <td>2576.619589</td>\n",
       "    </tr>\n",
       "    <tr>\n",
       "      <th>min</th>\n",
       "      <td>1.000000</td>\n",
       "      <td>0.000000</td>\n",
       "      <td>8.987060e+09</td>\n",
       "      <td>0.000000</td>\n",
       "      <td>0.000000e+00</td>\n",
       "      <td>0.000000</td>\n",
       "    </tr>\n",
       "    <tr>\n",
       "      <th>25%</th>\n",
       "      <td>10277.500000</td>\n",
       "      <td>3.770000</td>\n",
       "      <td>9.780345e+12</td>\n",
       "      <td>192.000000</td>\n",
       "      <td>1.040000e+02</td>\n",
       "      <td>9.000000</td>\n",
       "    </tr>\n",
       "    <tr>\n",
       "      <th>50%</th>\n",
       "      <td>20287.000000</td>\n",
       "      <td>3.960000</td>\n",
       "      <td>9.780582e+12</td>\n",
       "      <td>299.000000</td>\n",
       "      <td>7.450000e+02</td>\n",
       "      <td>47.000000</td>\n",
       "    </tr>\n",
       "    <tr>\n",
       "      <th>75%</th>\n",
       "      <td>32104.500000</td>\n",
       "      <td>4.140000</td>\n",
       "      <td>9.780872e+12</td>\n",
       "      <td>416.000000</td>\n",
       "      <td>5.000500e+03</td>\n",
       "      <td>238.000000</td>\n",
       "    </tr>\n",
       "    <tr>\n",
       "      <th>max</th>\n",
       "      <td>45641.000000</td>\n",
       "      <td>5.000000</td>\n",
       "      <td>9.790008e+12</td>\n",
       "      <td>6576.000000</td>\n",
       "      <td>4.597666e+06</td>\n",
       "      <td>94265.000000</td>\n",
       "    </tr>\n",
       "  </tbody>\n",
       "</table>\n",
       "</div>"
      ],
      "text/plain": [
       "             bookID  average_rating        isbn13     num_pages  \\\n",
       "count  11123.000000    11123.000000  1.112300e+04  11123.000000   \n",
       "mean   21310.856963        3.934075  9.759880e+12    336.405556   \n",
       "std    13094.727252        0.350485  4.429758e+11    241.152626   \n",
       "min        1.000000        0.000000  8.987060e+09      0.000000   \n",
       "25%    10277.500000        3.770000  9.780345e+12    192.000000   \n",
       "50%    20287.000000        3.960000  9.780582e+12    299.000000   \n",
       "75%    32104.500000        4.140000  9.780872e+12    416.000000   \n",
       "max    45641.000000        5.000000  9.790008e+12   6576.000000   \n",
       "\n",
       "       ratings_count  text_reviews_count  \n",
       "count   1.112300e+04        11123.000000  \n",
       "mean    1.794285e+04          542.048099  \n",
       "std     1.124992e+05         2576.619589  \n",
       "min     0.000000e+00            0.000000  \n",
       "25%     1.040000e+02            9.000000  \n",
       "50%     7.450000e+02           47.000000  \n",
       "75%     5.000500e+03          238.000000  \n",
       "max     4.597666e+06        94265.000000  "
      ]
     },
     "execution_count": 7,
     "metadata": {},
     "output_type": "execute_result"
    }
   ],
   "source": [
    "book_df.describe()"
   ]
  },
  {
   "cell_type": "code",
   "execution_count": 8,
   "id": "395d86fa",
   "metadata": {
    "execution": {
     "iopub.execute_input": "2021-12-09T06:38:52.428811Z",
     "iopub.status.busy": "2021-12-09T06:38:52.428136Z",
     "iopub.status.idle": "2021-12-09T06:38:52.771384Z",
     "shell.execute_reply": "2021-12-09T06:38:52.770920Z",
     "shell.execute_reply.started": "2021-12-09T05:57:41.771141Z"
    },
    "papermill": {
     "duration": 0.36605,
     "end_time": "2021-12-09T06:38:52.771556",
     "exception": false,
     "start_time": "2021-12-09T06:38:52.405506",
     "status": "completed"
    },
    "tags": []
   },
   "outputs": [
    {
     "data": {
      "text/plain": [
       "<AxesSubplot:xlabel='average_rating', ylabel='title'>"
      ]
     },
     "execution_count": 8,
     "metadata": {},
     "output_type": "execute_result"
    },
    {
     "data": {
      "image/png": "[encoded data removed]",
      "text/plain": [
       "<Figure size 720x720 with 1 Axes>"
      ]
     },
     "metadata": {
      "needs_background": "light"
     },
     "output_type": "display_data"
    }
   ],
   "source": [
    "book_top_10 = book_df[book_df[\"ratings_count\"] > 1000000]\n",
    "book_top_10.sort_values(by=\"average_rating\", ascending=False)\n",
    "plt.figure(figsize=(10,10))\n",
    "data = book_top_10.sort_values(by=\"average_rating\", ascending=False).head(10)\n",
    "sns.barplot(x=\"average_rating\", y=\"title\", data=data)"
   ]
  },
  {
   "cell_type": "code",
   "execution_count": 9,
   "id": "b722f0e2",
   "metadata": {
    "execution": {
     "iopub.execute_input": "2021-12-09T06:38:52.823321Z",
     "iopub.status.busy": "2021-12-09T06:38:52.822684Z",
     "iopub.status.idle": "2021-12-09T06:38:52.837547Z",
     "shell.execute_reply": "2021-12-09T06:38:52.838194Z",
     "shell.execute_reply.started": "2021-12-09T06:08:03.798360Z"
    },
    "papermill": {
     "duration": 0.045133,
     "end_time": "2021-12-09T06:38:52.838420",
     "exception": false,
     "start_time": "2021-12-09T06:38:52.793287",
     "status": "completed"
    },
    "tags": []
   },
   "outputs": [],
   "source": [
    "author_most_books = book_df.groupby('authors')['title'].count().reset_index().sort_values('title', ascending=False).head(10).set_index('authors')"
   ]
  },
  {
   "cell_type": "code",
   "execution_count": 10,
   "id": "f9583886",
   "metadata": {
    "execution": {
     "iopub.execute_input": "2021-12-09T06:38:52.889904Z",
     "iopub.status.busy": "2021-12-09T06:38:52.889233Z",
     "iopub.status.idle": "2021-12-09T06:38:52.893292Z",
     "shell.execute_reply": "2021-12-09T06:38:52.893769Z",
     "shell.execute_reply.started": "2021-12-09T06:08:05.046308Z"
    },
    "papermill": {
     "duration": 0.033785,
     "end_time": "2021-12-09T06:38:52.893955",
     "exception": false,
     "start_time": "2021-12-09T06:38:52.860170",
     "status": "completed"
    },
    "tags": []
   },
   "outputs": [
    {
     "data": {
      "text/html": [
       "<div>\n",
       "<style scoped>\n",
       "    .dataframe tbody tr th:only-of-type {\n",
       "        vertical-align: middle;\n",
       "    }\n",
       "\n",
       "    .dataframe tbody tr th {\n",
       "        vertical-align: top;\n",
       "    }\n",
       "\n",
       "    .dataframe thead th {\n",
       "        text-align: right;\n",
       "    }\n",
       "</style>\n",
       "<table border=\"1\" class=\"dataframe\">\n",
       "  <thead>\n",
       "    <tr style=\"text-align: right;\">\n",
       "      <th></th>\n",
       "      <th>title</th>\n",
       "    </tr>\n",
       "    <tr>\n",
       "      <th>authors</th>\n",
       "      <th></th>\n",
       "    </tr>\n",
       "  </thead>\n",
       "  <tbody>\n",
       "    <tr>\n",
       "      <th>Stephen King</th>\n",
       "      <td>40</td>\n",
       "    </tr>\n",
       "    <tr>\n",
       "      <th>P.G. Wodehouse</th>\n",
       "      <td>40</td>\n",
       "    </tr>\n",
       "    <tr>\n",
       "      <th>Rumiko Takahashi</th>\n",
       "      <td>39</td>\n",
       "    </tr>\n",
       "    <tr>\n",
       "      <th>Orson Scott Card</th>\n",
       "      <td>35</td>\n",
       "    </tr>\n",
       "    <tr>\n",
       "      <th>Agatha Christie</th>\n",
       "      <td>33</td>\n",
       "    </tr>\n",
       "    <tr>\n",
       "      <th>Piers Anthony</th>\n",
       "      <td>30</td>\n",
       "    </tr>\n",
       "    <tr>\n",
       "      <th>Mercedes Lackey</th>\n",
       "      <td>29</td>\n",
       "    </tr>\n",
       "    <tr>\n",
       "      <th>Sandra Brown</th>\n",
       "      <td>29</td>\n",
       "    </tr>\n",
       "    <tr>\n",
       "      <th>Dick Francis</th>\n",
       "      <td>28</td>\n",
       "    </tr>\n",
       "    <tr>\n",
       "      <th>Laurell K. Hamilton</th>\n",
       "      <td>23</td>\n",
       "    </tr>\n",
       "  </tbody>\n",
       "</table>\n",
       "</div>"
      ],
      "text/plain": [
       "                     title\n",
       "authors                   \n",
       "Stephen King            40\n",
       "P.G. Wodehouse          40\n",
       "Rumiko Takahashi        39\n",
       "Orson Scott Card        35\n",
       "Agatha Christie         33\n",
       "Piers Anthony           30\n",
       "Mercedes Lackey         29\n",
       "Sandra Brown            29\n",
       "Dick Francis            28\n",
       "Laurell K. Hamilton     23"
      ]
     },
     "execution_count": 10,
     "metadata": {},
     "output_type": "execute_result"
    }
   ],
   "source": [
    "author_most_books"
   ]
  },
  {
   "cell_type": "code",
   "execution_count": 11,
   "id": "0dbdb566",
   "metadata": {
    "execution": {
     "iopub.execute_input": "2021-12-09T06:38:52.943427Z",
     "iopub.status.busy": "2021-12-09T06:38:52.942702Z",
     "iopub.status.idle": "2021-12-09T06:38:53.244405Z",
     "shell.execute_reply": "2021-12-09T06:38:53.244918Z",
     "shell.execute_reply.started": "2021-12-09T06:08:51.036618Z"
    },
    "papermill": {
     "duration": 0.328532,
     "end_time": "2021-12-09T06:38:53.245103",
     "exception": false,
     "start_time": "2021-12-09T06:38:52.916571",
     "status": "completed"
    },
    "tags": []
   },
   "outputs": [
    {
     "name": "stderr",
     "output_type": "stream",
     "text": [
      "C:\\Users\\hp\\anaconda3\\lib\\site-packages\\seaborn\\_decorators.py:36: FutureWarning: Pass the following variables as keyword args: x, y. From version 0.12, the only valid positional argument will be `data`, and passing other arguments without an explicit keyword will result in an error or misinterpretation.\n",
      "  warnings.warn(\n"
     ]
    },
    {
     "data": {
      "image/png": "[encoded data removed]",
      "text/plain": [
       "<Figure size 1080x720 with 1 Axes>"
      ]
     },
     "metadata": {
      "needs_background": "light"
     },
     "output_type": "display_data"
    }
   ],
   "source": [
    "plt.figure(figsize=(15,10))\n",
    "ax = sns.barplot(author_most_books[\"title\"], author_most_books.index)\n",
    "ax.set_title(\"Top 10 authors with most books\")\n",
    "ax.set_xlabel(\"Total number of books\")\n",
    "totals = []\n",
    "for i in ax.patches:\n",
    "    totals.append(i.get_width())\n",
    "totals = sum(totals)\n",
    "\n",
    "for i in ax.patches:\n",
    "    ax.text(i.get_width()+.2, i.get_y()+.2,str(round(i.get_width())), fontsize=15)\n",
    "plt.show();"
   ]
  },
  {
   "cell_type": "code",
   "execution_count": 12,
   "id": "42ac22f3",
   "metadata": {
    "execution": {
     "iopub.execute_input": "2021-12-09T06:38:53.297287Z",
     "iopub.status.busy": "2021-12-09T06:38:53.295183Z",
     "iopub.status.idle": "2021-12-09T06:38:53.305643Z",
     "shell.execute_reply": "2021-12-09T06:38:53.305035Z",
     "shell.execute_reply.started": "2021-12-09T06:10:18.164777Z"
    },
    "papermill": {
     "duration": 0.037063,
     "end_time": "2021-12-09T06:38:53.305799",
     "exception": false,
     "start_time": "2021-12-09T06:38:53.268736",
     "status": "completed"
    },
    "tags": []
   },
   "outputs": [],
   "source": [
    "book_most_rated = book_df.sort_values('ratings_count', ascending=False).head(10).set_index('title')"
   ]
  },
  {
   "cell_type": "code",
   "execution_count": 13,
   "id": "d19392ab",
   "metadata": {
    "execution": {
     "iopub.execute_input": "2021-12-09T06:38:53.363253Z",
     "iopub.status.busy": "2021-12-09T06:38:53.361099Z",
     "iopub.status.idle": "2021-12-09T06:38:53.711657Z",
     "shell.execute_reply": "2021-12-09T06:38:53.712157Z",
     "shell.execute_reply.started": "2021-12-09T06:14:24.739974Z"
    },
    "papermill": {
     "duration": 0.381215,
     "end_time": "2021-12-09T06:38:53.712328",
     "exception": false,
     "start_time": "2021-12-09T06:38:53.331113",
     "status": "completed"
    },
    "tags": []
   },
   "outputs": [
    {
     "name": "stderr",
     "output_type": "stream",
     "text": [
      "C:\\Users\\hp\\anaconda3\\lib\\site-packages\\seaborn\\_decorators.py:36: FutureWarning: Pass the following variables as keyword args: x, y. From version 0.12, the only valid positional argument will be `data`, and passing other arguments without an explicit keyword will result in an error or misinterpretation.\n",
      "  warnings.warn(\n"
     ]
    },
    {
     "data": {
      "image/png": "[encoded data removed]",
      "text/plain": [
       "<Figure size 1080x720 with 1 Axes>"
      ]
     },
     "metadata": {
      "needs_background": "light"
     },
     "output_type": "display_data"
    }
   ],
   "source": [
    "plt.figure(figsize=(15,10))\n",
    "ax = sns.barplot(book_most_rated[\"ratings_count\"], book_most_rated.index)\n",
    "totals = []\n",
    "for i in ax.patches:\n",
    "    totals.append(i.get_width())\n",
    "total = sum(totals)\n",
    "for i in ax.patches:\n",
    "    ax.text(i.get_width()+.2, i.get_y()+.2, str(round(i.get_width())), fontsize=15)"
   ]
  },
  {
   "cell_type": "code",
   "execution_count": 14,
   "id": "ff202e95",
   "metadata": {
    "execution": {
     "iopub.execute_input": "2021-12-09T06:38:53.768745Z",
     "iopub.status.busy": "2021-12-09T06:38:53.765160Z",
     "iopub.status.idle": "2021-12-09T06:38:54.223992Z",
     "shell.execute_reply": "2021-12-09T06:38:54.224511Z",
     "shell.execute_reply.started": "2021-12-09T06:17:01.888140Z"
    },
    "papermill": {
     "duration": 0.48759,
     "end_time": "2021-12-09T06:38:54.224720",
     "exception": false,
     "start_time": "2021-12-09T06:38:53.737130",
     "status": "completed"
    },
    "tags": []
   },
   "outputs": [
    {
     "name": "stderr",
     "output_type": "stream",
     "text": [
      "C:\\Users\\hp\\anaconda3\\lib\\site-packages\\seaborn\\distributions.py:2619: FutureWarning: `distplot` is a deprecated function and will be removed in a future version. Please adapt your code to use either `displot` (a figure-level function with similar flexibility) or `histplot` (an axes-level function for histograms).\n",
      "  warnings.warn(msg, FutureWarning)\n"
     ]
    },
    {
     "data": {
      "text/plain": [
       "Text(0.5, 0, 'Average ratings')"
      ]
     },
     "execution_count": 14,
     "metadata": {},
     "output_type": "execute_result"
    },
    {
     "data": {
      "image/png": "[encoded data removed]",
      "text/plain": [
       "<Figure size 1080x720 with 1 Axes>"
      ]
     },
     "metadata": {
      "needs_background": "light"
     },
     "output_type": "display_data"
    }
   ],
   "source": [
    "book_df.average_rating = book_df.average_rating.astype(float)\n",
    "fig, ax = plt.subplots(figsize=(15,10))\n",
    "sns.distplot(book_df['average_rating'], ax=ax)\n",
    "ax.set_title(\"Average rating distribution for all books\", fontsize=20)\n",
    "ax.set_xlabel(\"Average ratings\", fontsize=14)"
   ]
  },
  {
   "cell_type": "code",
   "execution_count": 15,
   "id": "a0bc0bad",
   "metadata": {
    "execution": {
     "iopub.execute_input": "2021-12-09T06:38:54.283103Z",
     "iopub.status.busy": "2021-12-09T06:38:54.282408Z",
     "iopub.status.idle": "2021-12-09T06:38:54.655068Z",
     "shell.execute_reply": "2021-12-09T06:38:54.654447Z",
     "shell.execute_reply.started": "2021-12-09T06:18:03.594531Z"
    },
    "papermill": {
     "duration": 0.403275,
     "end_time": "2021-12-09T06:38:54.655213",
     "exception": false,
     "start_time": "2021-12-09T06:38:54.251938",
     "status": "completed"
    },
    "tags": []
   },
   "outputs": [
    {
     "data": {
      "text/plain": [
       "<seaborn.axisgrid.FacetGrid at 0x1651ae1bac0>"
      ]
     },
     "execution_count": 15,
     "metadata": {},
     "output_type": "execute_result"
    },
    {
     "data": {
      "image/png": "[encoded data removed]",
      "text/plain": [
       "<Figure size 504x504 with 1 Axes>"
      ]
     },
     "metadata": {
      "needs_background": "light"
     },
     "output_type": "display_data"
    }
   ],
   "source": [
    "ax = sns.relplot(data=book_df, x=\"average_rating\", y=\"ratings_count\", sizes=(100, 200), height=7, marker='o')\n",
    "plt.title(\"Relation between Rating counts and Average Ratings\",fontsize = 15)\n",
    "ax.set_axis_labels(\"Average Rating\", \"Ratings Count\")"
   ]
  },
  {
   "cell_type": "code",
   "execution_count": 16,
   "id": "7d2998cf",
   "metadata": {
    "execution": {
     "iopub.execute_input": "2021-12-09T06:38:54.719619Z",
     "iopub.status.busy": "2021-12-09T06:38:54.718322Z",
     "iopub.status.idle": "2021-12-09T06:38:55.201028Z",
     "shell.execute_reply": "2021-12-09T06:38:55.201488Z",
     "shell.execute_reply.started": "2021-12-09T06:18:25.499821Z"
    },
    "papermill": {
     "duration": 0.517778,
     "end_time": "2021-12-09T06:38:55.201660",
     "exception": false,
     "start_time": "2021-12-09T06:38:54.683882",
     "status": "completed"
    },
    "tags": []
   },
   "outputs": [
    {
     "data": {
      "text/plain": [
       "<seaborn.axisgrid.FacetGrid at 0x1651b845340>"
      ]
     },
     "execution_count": 16,
     "metadata": {},
     "output_type": "execute_result"
    },
    {
     "data": {
      "text/plain": [
       "<Figure size 1080x720 with 0 Axes>"
      ]
     },
     "metadata": {},
     "output_type": "display_data"
    },
    {
     "data": {
      "image/png": "[encoded data removed]",
      "text/plain": [
       "<Figure size 504x504 with 1 Axes>"
      ]
     },
     "metadata": {
      "needs_background": "light"
     },
     "output_type": "display_data"
    }
   ],
   "source": [
    "\n",
    "plt.figure(figsize=(15,10))\n",
    "ax = sns.relplot(x=\"average_rating\", y=\"  num_pages\", data = book_df,sizes=(100, 200), height=7, marker='o')\n",
    "ax.set_axis_labels(\"Average Rating\", \"Number of Pages\")"
   ]
  },
  {
   "cell_type": "code",
   "execution_count": 17,
   "id": "d2e775e7",
   "metadata": {
    "execution": {
     "iopub.execute_input": "2021-12-09T06:38:55.268815Z",
     "iopub.status.busy": "2021-12-09T06:38:55.267823Z",
     "iopub.status.idle": "2021-12-09T06:38:55.271395Z",
     "shell.execute_reply": "2021-12-09T06:38:55.271890Z",
     "shell.execute_reply.started": "2021-12-09T06:19:02.326972Z"
    },
    "papermill": {
     "duration": 0.039242,
     "end_time": "2021-12-09T06:38:55.272057",
     "exception": false,
     "start_time": "2021-12-09T06:38:55.232815",
     "status": "completed"
    },
    "tags": []
   },
   "outputs": [],
   "source": [
    "df_book = book_df.copy()"
   ]
  },
  {
   "cell_type": "code",
   "execution_count": 18,
   "id": "fff56daf",
   "metadata": {
    "execution": {
     "iopub.execute_input": "2021-12-09T06:38:55.343544Z",
     "iopub.status.busy": "2021-12-09T06:38:55.335582Z",
     "iopub.status.idle": "2021-12-09T06:38:55.351048Z",
     "shell.execute_reply": "2021-12-09T06:38:55.350559Z",
     "shell.execute_reply.started": "2021-12-09T06:22:03.139848Z"
    },
    "papermill": {
     "duration": 0.048568,
     "end_time": "2021-12-09T06:38:55.351190",
     "exception": false,
     "start_time": "2021-12-09T06:38:55.302622",
     "status": "completed"
    },
    "tags": []
   },
   "outputs": [],
   "source": [
    "df_book.loc[ (df_book['average_rating'] >= 0) & (df_book['average_rating'] <=1), 'rating_between'] = 'between 0 and 1'\n",
    "df_book.loc[ (df_book['average_rating'] >1) & (df_book['average_rating'] <=2), 'rating_between'] = 'between 1 and 2'\n",
    "df_book.loc[ (df_book['average_rating'] >2) & (df_book['average_rating'] <=3), 'rating_between'] = 'between 2 and 3'\n",
    "df_book.loc[ (df_book['average_rating'] >3) & (df_book['average_rating'] <=4), 'rating_between'] = 'between 3 and 4'\n",
    "df_book.loc[ (df_book['average_rating'] >4) & (df_book['average_rating'] <=5), 'rating_between'] = 'between 4 and 5'"
   ]
  },
  {
   "cell_type": "code",
   "execution_count": 19,
   "id": "f3cf479f",
   "metadata": {
    "execution": {
     "iopub.execute_input": "2021-12-09T06:38:55.442179Z",
     "iopub.status.busy": "2021-12-09T06:38:55.441538Z",
     "iopub.status.idle": "2021-12-09T06:38:55.448041Z",
     "shell.execute_reply": "2021-12-09T06:38:55.448675Z",
     "shell.execute_reply.started": "2021-12-09T06:22:09.210360Z"
    },
    "papermill": {
     "duration": 0.061041,
     "end_time": "2021-12-09T06:38:55.448874",
     "exception": false,
     "start_time": "2021-12-09T06:38:55.387833",
     "status": "completed"
    },
    "tags": []
   },
   "outputs": [
    {
     "data": {
      "text/html": [
       "<div>\n",
       "<style scoped>\n",
       "    .dataframe tbody tr th:only-of-type {\n",
       "        vertical-align: middle;\n",
       "    }\n",
       "\n",
       "    .dataframe tbody tr th {\n",
       "        vertical-align: top;\n",
       "    }\n",
       "\n",
       "    .dataframe thead th {\n",
       "        text-align: right;\n",
       "    }\n",
       "</style>\n",
       "<table border=\"1\" class=\"dataframe\">\n",
       "  <thead>\n",
       "    <tr style=\"text-align: right;\">\n",
       "      <th></th>\n",
       "      <th>bookID</th>\n",
       "      <th>title</th>\n",
       "      <th>authors</th>\n",
       "      <th>average_rating</th>\n",
       "      <th>isbn</th>\n",
       "      <th>isbn13</th>\n",
       "      <th>language_code</th>\n",
       "      <th>num_pages</th>\n",
       "      <th>ratings_count</th>\n",
       "      <th>text_reviews_count</th>\n",
       "      <th>publication_date</th>\n",
       "      <th>publisher</th>\n",
       "      <th>rating_between</th>\n",
       "    </tr>\n",
       "  </thead>\n",
       "  <tbody>\n",
       "    <tr>\n",
       "      <th>0</th>\n",
       "      <td>1</td>\n",
       "      <td>Harry Potter and the Half-Blood Prince (Harry ...</td>\n",
       "      <td>J.K. Rowling/Mary GrandPré</td>\n",
       "      <td>4.57</td>\n",
       "      <td>0439785960</td>\n",
       "      <td>9780439785969</td>\n",
       "      <td>eng</td>\n",
       "      <td>652</td>\n",
       "      <td>2095690</td>\n",
       "      <td>27591</td>\n",
       "      <td>9/16/2006</td>\n",
       "      <td>Scholastic Inc.</td>\n",
       "      <td>between 4 and 5</td>\n",
       "    </tr>\n",
       "    <tr>\n",
       "      <th>1</th>\n",
       "      <td>2</td>\n",
       "      <td>Harry Potter and the Order of the Phoenix (Har...</td>\n",
       "      <td>J.K. Rowling/Mary GrandPré</td>\n",
       "      <td>4.49</td>\n",
       "      <td>0439358078</td>\n",
       "      <td>9780439358071</td>\n",
       "      <td>eng</td>\n",
       "      <td>870</td>\n",
       "      <td>2153167</td>\n",
       "      <td>29221</td>\n",
       "      <td>9/1/2004</td>\n",
       "      <td>Scholastic Inc.</td>\n",
       "      <td>between 4 and 5</td>\n",
       "    </tr>\n",
       "    <tr>\n",
       "      <th>2</th>\n",
       "      <td>4</td>\n",
       "      <td>Harry Potter and the Chamber of Secrets (Harry...</td>\n",
       "      <td>J.K. Rowling</td>\n",
       "      <td>4.42</td>\n",
       "      <td>0439554896</td>\n",
       "      <td>9780439554893</td>\n",
       "      <td>eng</td>\n",
       "      <td>352</td>\n",
       "      <td>6333</td>\n",
       "      <td>244</td>\n",
       "      <td>11/1/2003</td>\n",
       "      <td>Scholastic</td>\n",
       "      <td>between 4 and 5</td>\n",
       "    </tr>\n",
       "    <tr>\n",
       "      <th>3</th>\n",
       "      <td>5</td>\n",
       "      <td>Harry Potter and the Prisoner of Azkaban (Harr...</td>\n",
       "      <td>J.K. Rowling/Mary GrandPré</td>\n",
       "      <td>4.56</td>\n",
       "      <td>043965548X</td>\n",
       "      <td>9780439655484</td>\n",
       "      <td>eng</td>\n",
       "      <td>435</td>\n",
       "      <td>2339585</td>\n",
       "      <td>36325</td>\n",
       "      <td>5/1/2004</td>\n",
       "      <td>Scholastic Inc.</td>\n",
       "      <td>between 4 and 5</td>\n",
       "    </tr>\n",
       "    <tr>\n",
       "      <th>4</th>\n",
       "      <td>8</td>\n",
       "      <td>Harry Potter Boxed Set  Books 1-5 (Harry Potte...</td>\n",
       "      <td>J.K. Rowling/Mary GrandPré</td>\n",
       "      <td>4.78</td>\n",
       "      <td>0439682584</td>\n",
       "      <td>9780439682589</td>\n",
       "      <td>eng</td>\n",
       "      <td>2690</td>\n",
       "      <td>41428</td>\n",
       "      <td>164</td>\n",
       "      <td>9/13/2004</td>\n",
       "      <td>Scholastic</td>\n",
       "      <td>between 4 and 5</td>\n",
       "    </tr>\n",
       "  </tbody>\n",
       "</table>\n",
       "</div>"
      ],
      "text/plain": [
       "   bookID                                              title  \\\n",
       "0       1  Harry Potter and the Half-Blood Prince (Harry ...   \n",
       "1       2  Harry Potter and the Order of the Phoenix (Har...   \n",
       "2       4  Harry Potter and the Chamber of Secrets (Harry...   \n",
       "3       5  Harry Potter and the Prisoner of Azkaban (Harr...   \n",
       "4       8  Harry Potter Boxed Set  Books 1-5 (Harry Potte...   \n",
       "\n",
       "                      authors  average_rating        isbn         isbn13  \\\n",
       "0  J.K. Rowling/Mary GrandPré            4.57  0439785960  9780439785969   \n",
       "1  J.K. Rowling/Mary GrandPré            4.49  0439358078  9780439358071   \n",
       "2                J.K. Rowling            4.42  0439554896  9780439554893   \n",
       "3  J.K. Rowling/Mary GrandPré            4.56  043965548X  9780439655484   \n",
       "4  J.K. Rowling/Mary GrandPré            4.78  0439682584  9780439682589   \n",
       "\n",
       "  language_code    num_pages  ratings_count  text_reviews_count  \\\n",
       "0           eng          652        2095690               27591   \n",
       "1           eng          870        2153167               29221   \n",
       "2           eng          352           6333                 244   \n",
       "3           eng          435        2339585               36325   \n",
       "4           eng         2690          41428                 164   \n",
       "\n",
       "  publication_date        publisher   rating_between  \n",
       "0        9/16/2006  Scholastic Inc.  between 4 and 5  \n",
       "1         9/1/2004  Scholastic Inc.  between 4 and 5  \n",
       "2        11/1/2003       Scholastic  between 4 and 5  \n",
       "3         5/1/2004  Scholastic Inc.  between 4 and 5  \n",
       "4        9/13/2004       Scholastic  between 4 and 5  "
      ]
     },
     "execution_count": 19,
     "metadata": {},
     "output_type": "execute_result"
    }
   ],
   "source": [
    "df_book.head()"
   ]
  },
  {
   "cell_type": "code",
   "execution_count": 20,
   "id": "0fdf911f",
   "metadata": {
    "execution": {
     "iopub.execute_input": "2021-12-09T06:38:55.534106Z",
     "iopub.status.busy": "2021-12-09T06:38:55.533215Z",
     "iopub.status.idle": "2021-12-09T06:38:55.541504Z",
     "shell.execute_reply": "2021-12-09T06:38:55.542282Z",
     "shell.execute_reply.started": "2021-12-09T06:24:05.932393Z"
    },
    "papermill": {
     "duration": 0.062182,
     "end_time": "2021-12-09T06:38:55.542551",
     "exception": false,
     "start_time": "2021-12-09T06:38:55.480369",
     "status": "completed"
    },
    "tags": []
   },
   "outputs": [],
   "source": [
    "rating_df = pd.get_dummies(df_book['rating_between'])\n",
    "language_df = pd.get_dummies(df_book['language_code'])"
   ]
  },
  {
   "cell_type": "code",
   "execution_count": 21,
   "id": "8aad5126",
   "metadata": {
    "execution": {
     "iopub.execute_input": "2021-12-09T06:38:55.634660Z",
     "iopub.status.busy": "2021-12-09T06:38:55.633696Z",
     "iopub.status.idle": "2021-12-09T06:38:55.649095Z",
     "shell.execute_reply": "2021-12-09T06:38:55.649879Z",
     "shell.execute_reply.started": "2021-12-09T06:25:39.846084Z"
    },
    "papermill": {
     "duration": 0.051949,
     "end_time": "2021-12-09T06:38:55.650114",
     "exception": false,
     "start_time": "2021-12-09T06:38:55.598165",
     "status": "completed"
    },
    "tags": []
   },
   "outputs": [
    {
     "data": {
      "text/html": [
       "<div>\n",
       "<style scoped>\n",
       "    .dataframe tbody tr th:only-of-type {\n",
       "        vertical-align: middle;\n",
       "    }\n",
       "\n",
       "    .dataframe tbody tr th {\n",
       "        vertical-align: top;\n",
       "    }\n",
       "\n",
       "    .dataframe thead th {\n",
       "        text-align: right;\n",
       "    }\n",
       "</style>\n",
       "<table border=\"1\" class=\"dataframe\">\n",
       "  <thead>\n",
       "    <tr style=\"text-align: right;\">\n",
       "      <th></th>\n",
       "      <th>between 0 and 1</th>\n",
       "      <th>between 1 and 2</th>\n",
       "      <th>between 2 and 3</th>\n",
       "      <th>between 3 and 4</th>\n",
       "      <th>between 4 and 5</th>\n",
       "    </tr>\n",
       "  </thead>\n",
       "  <tbody>\n",
       "    <tr>\n",
       "      <th>0</th>\n",
       "      <td>0</td>\n",
       "      <td>0</td>\n",
       "      <td>0</td>\n",
       "      <td>0</td>\n",
       "      <td>1</td>\n",
       "    </tr>\n",
       "    <tr>\n",
       "      <th>1</th>\n",
       "      <td>0</td>\n",
       "      <td>0</td>\n",
       "      <td>0</td>\n",
       "      <td>0</td>\n",
       "      <td>1</td>\n",
       "    </tr>\n",
       "    <tr>\n",
       "      <th>2</th>\n",
       "      <td>0</td>\n",
       "      <td>0</td>\n",
       "      <td>0</td>\n",
       "      <td>0</td>\n",
       "      <td>1</td>\n",
       "    </tr>\n",
       "    <tr>\n",
       "      <th>3</th>\n",
       "      <td>0</td>\n",
       "      <td>0</td>\n",
       "      <td>0</td>\n",
       "      <td>0</td>\n",
       "      <td>1</td>\n",
       "    </tr>\n",
       "    <tr>\n",
       "      <th>4</th>\n",
       "      <td>0</td>\n",
       "      <td>0</td>\n",
       "      <td>0</td>\n",
       "      <td>0</td>\n",
       "      <td>1</td>\n",
       "    </tr>\n",
       "  </tbody>\n",
       "</table>\n",
       "</div>"
      ],
      "text/plain": [
       "   between 0 and 1  between 1 and 2  between 2 and 3  between 3 and 4  \\\n",
       "0                0                0                0                0   \n",
       "1                0                0                0                0   \n",
       "2                0                0                0                0   \n",
       "3                0                0                0                0   \n",
       "4                0                0                0                0   \n",
       "\n",
       "   between 4 and 5  \n",
       "0                1  \n",
       "1                1  \n",
       "2                1  \n",
       "3                1  \n",
       "4                1  "
      ]
     },
     "execution_count": 21,
     "metadata": {},
     "output_type": "execute_result"
    }
   ],
   "source": [
    "rating_df.head()"
   ]
  },
  {
   "cell_type": "code",
   "execution_count": 22,
   "id": "c80c33c5",
   "metadata": {
    "execution": {
     "iopub.execute_input": "2021-12-09T06:38:55.736161Z",
     "iopub.status.busy": "2021-12-09T06:38:55.727898Z",
     "iopub.status.idle": "2021-12-09T06:38:55.748060Z",
     "shell.execute_reply": "2021-12-09T06:38:55.749147Z",
     "shell.execute_reply.started": "2021-12-09T06:25:48.455079Z"
    },
    "papermill": {
     "duration": 0.060081,
     "end_time": "2021-12-09T06:38:55.749428",
     "exception": false,
     "start_time": "2021-12-09T06:38:55.689347",
     "status": "completed"
    },
    "tags": []
   },
   "outputs": [
    {
     "data": {
      "text/html": [
       "<div>\n",
       "<style scoped>\n",
       "    .dataframe tbody tr th:only-of-type {\n",
       "        vertical-align: middle;\n",
       "    }\n",
       "\n",
       "    .dataframe tbody tr th {\n",
       "        vertical-align: top;\n",
       "    }\n",
       "\n",
       "    .dataframe thead th {\n",
       "        text-align: right;\n",
       "    }\n",
       "</style>\n",
       "<table border=\"1\" class=\"dataframe\">\n",
       "  <thead>\n",
       "    <tr style=\"text-align: right;\">\n",
       "      <th></th>\n",
       "      <th>ale</th>\n",
       "      <th>ara</th>\n",
       "      <th>en-CA</th>\n",
       "      <th>en-GB</th>\n",
       "      <th>en-US</th>\n",
       "      <th>eng</th>\n",
       "      <th>enm</th>\n",
       "      <th>fre</th>\n",
       "      <th>ger</th>\n",
       "      <th>gla</th>\n",
       "      <th>...</th>\n",
       "      <th>nl</th>\n",
       "      <th>nor</th>\n",
       "      <th>por</th>\n",
       "      <th>rus</th>\n",
       "      <th>spa</th>\n",
       "      <th>srp</th>\n",
       "      <th>swe</th>\n",
       "      <th>tur</th>\n",
       "      <th>wel</th>\n",
       "      <th>zho</th>\n",
       "    </tr>\n",
       "  </thead>\n",
       "  <tbody>\n",
       "    <tr>\n",
       "      <th>0</th>\n",
       "      <td>0</td>\n",
       "      <td>0</td>\n",
       "      <td>0</td>\n",
       "      <td>0</td>\n",
       "      <td>0</td>\n",
       "      <td>1</td>\n",
       "      <td>0</td>\n",
       "      <td>0</td>\n",
       "      <td>0</td>\n",
       "      <td>0</td>\n",
       "      <td>...</td>\n",
       "      <td>0</td>\n",
       "      <td>0</td>\n",
       "      <td>0</td>\n",
       "      <td>0</td>\n",
       "      <td>0</td>\n",
       "      <td>0</td>\n",
       "      <td>0</td>\n",
       "      <td>0</td>\n",
       "      <td>0</td>\n",
       "      <td>0</td>\n",
       "    </tr>\n",
       "    <tr>\n",
       "      <th>1</th>\n",
       "      <td>0</td>\n",
       "      <td>0</td>\n",
       "      <td>0</td>\n",
       "      <td>0</td>\n",
       "      <td>0</td>\n",
       "      <td>1</td>\n",
       "      <td>0</td>\n",
       "      <td>0</td>\n",
       "      <td>0</td>\n",
       "      <td>0</td>\n",
       "      <td>...</td>\n",
       "      <td>0</td>\n",
       "      <td>0</td>\n",
       "      <td>0</td>\n",
       "      <td>0</td>\n",
       "      <td>0</td>\n",
       "      <td>0</td>\n",
       "      <td>0</td>\n",
       "      <td>0</td>\n",
       "      <td>0</td>\n",
       "      <td>0</td>\n",
       "    </tr>\n",
       "    <tr>\n",
       "      <th>2</th>\n",
       "      <td>0</td>\n",
       "      <td>0</td>\n",
       "      <td>0</td>\n",
       "      <td>0</td>\n",
       "      <td>0</td>\n",
       "      <td>1</td>\n",
       "      <td>0</td>\n",
       "      <td>0</td>\n",
       "      <td>0</td>\n",
       "      <td>0</td>\n",
       "      <td>...</td>\n",
       "      <td>0</td>\n",
       "      <td>0</td>\n",
       "      <td>0</td>\n",
       "      <td>0</td>\n",
       "      <td>0</td>\n",
       "      <td>0</td>\n",
       "      <td>0</td>\n",
       "      <td>0</td>\n",
       "      <td>0</td>\n",
       "      <td>0</td>\n",
       "    </tr>\n",
       "    <tr>\n",
       "      <th>3</th>\n",
       "      <td>0</td>\n",
       "      <td>0</td>\n",
       "      <td>0</td>\n",
       "      <td>0</td>\n",
       "      <td>0</td>\n",
       "      <td>1</td>\n",
       "      <td>0</td>\n",
       "      <td>0</td>\n",
       "      <td>0</td>\n",
       "      <td>0</td>\n",
       "      <td>...</td>\n",
       "      <td>0</td>\n",
       "      <td>0</td>\n",
       "      <td>0</td>\n",
       "      <td>0</td>\n",
       "      <td>0</td>\n",
       "      <td>0</td>\n",
       "      <td>0</td>\n",
       "      <td>0</td>\n",
       "      <td>0</td>\n",
       "      <td>0</td>\n",
       "    </tr>\n",
       "    <tr>\n",
       "      <th>4</th>\n",
       "      <td>0</td>\n",
       "      <td>0</td>\n",
       "      <td>0</td>\n",
       "      <td>0</td>\n",
       "      <td>0</td>\n",
       "      <td>1</td>\n",
       "      <td>0</td>\n",
       "      <td>0</td>\n",
       "      <td>0</td>\n",
       "      <td>0</td>\n",
       "      <td>...</td>\n",
       "      <td>0</td>\n",
       "      <td>0</td>\n",
       "      <td>0</td>\n",
       "      <td>0</td>\n",
       "      <td>0</td>\n",
       "      <td>0</td>\n",
       "      <td>0</td>\n",
       "      <td>0</td>\n",
       "      <td>0</td>\n",
       "      <td>0</td>\n",
       "    </tr>\n",
       "  </tbody>\n",
       "</table>\n",
       "<p>5 rows × 27 columns</p>\n",
       "</div>"
      ],
      "text/plain": [
       "   ale  ara  en-CA  en-GB  en-US  eng  enm  fre  ger  gla  ...  nl  nor  por  \\\n",
       "0    0    0      0      0      0    1    0    0    0    0  ...   0    0    0   \n",
       "1    0    0      0      0      0    1    0    0    0    0  ...   0    0    0   \n",
       "2    0    0      0      0      0    1    0    0    0    0  ...   0    0    0   \n",
       "3    0    0      0      0      0    1    0    0    0    0  ...   0    0    0   \n",
       "4    0    0      0      0      0    1    0    0    0    0  ...   0    0    0   \n",
       "\n",
       "   rus  spa  srp  swe  tur  wel  zho  \n",
       "0    0    0    0    0    0    0    0  \n",
       "1    0    0    0    0    0    0    0  \n",
       "2    0    0    0    0    0    0    0  \n",
       "3    0    0    0    0    0    0    0  \n",
       "4    0    0    0    0    0    0    0  \n",
       "\n",
       "[5 rows x 27 columns]"
      ]
     },
     "execution_count": 22,
     "metadata": {},
     "output_type": "execute_result"
    }
   ],
   "source": [
    "language_df.head()"
   ]
  },
  {
   "cell_type": "code",
   "execution_count": 23,
   "id": "f0b3b449",
   "metadata": {
    "execution": {
     "iopub.execute_input": "2021-12-09T06:38:55.857752Z",
     "iopub.status.busy": "2021-12-09T06:38:55.856786Z",
     "iopub.status.idle": "2021-12-09T06:38:55.863317Z",
     "shell.execute_reply": "2021-12-09T06:38:55.863838Z",
     "shell.execute_reply.started": "2021-12-09T06:26:49.679685Z"
    },
    "papermill": {
     "duration": 0.068093,
     "end_time": "2021-12-09T06:38:55.864020",
     "exception": false,
     "start_time": "2021-12-09T06:38:55.795927",
     "status": "completed"
    },
    "tags": []
   },
   "outputs": [],
   "source": [
    "features = pd.concat([rating_df, language_df, df_book['average_rating'], df_book['ratings_count']], axis=1)"
   ]
  },
  {
   "cell_type": "code",
   "execution_count": 24,
   "id": "fc4806a8",
   "metadata": {
    "execution": {
     "iopub.execute_input": "2021-12-09T06:38:55.934197Z",
     "iopub.status.busy": "2021-12-09T06:38:55.933087Z",
     "iopub.status.idle": "2021-12-09T06:38:55.951928Z",
     "shell.execute_reply": "2021-12-09T06:38:55.952787Z",
     "shell.execute_reply.started": "2021-12-09T06:26:59.930688Z"
    },
    "papermill": {
     "duration": 0.055575,
     "end_time": "2021-12-09T06:38:55.953294",
     "exception": false,
     "start_time": "2021-12-09T06:38:55.897719",
     "status": "completed"
    },
    "tags": []
   },
   "outputs": [
    {
     "data": {
      "text/html": [
       "<div>\n",
       "<style scoped>\n",
       "    .dataframe tbody tr th:only-of-type {\n",
       "        vertical-align: middle;\n",
       "    }\n",
       "\n",
       "    .dataframe tbody tr th {\n",
       "        vertical-align: top;\n",
       "    }\n",
       "\n",
       "    .dataframe thead th {\n",
       "        text-align: right;\n",
       "    }\n",
       "</style>\n",
       "<table border=\"1\" class=\"dataframe\">\n",
       "  <thead>\n",
       "    <tr style=\"text-align: right;\">\n",
       "      <th></th>\n",
       "      <th>between 0 and 1</th>\n",
       "      <th>between 1 and 2</th>\n",
       "      <th>between 2 and 3</th>\n",
       "      <th>between 3 and 4</th>\n",
       "      <th>between 4 and 5</th>\n",
       "      <th>ale</th>\n",
       "      <th>ara</th>\n",
       "      <th>en-CA</th>\n",
       "      <th>en-GB</th>\n",
       "      <th>en-US</th>\n",
       "      <th>...</th>\n",
       "      <th>por</th>\n",
       "      <th>rus</th>\n",
       "      <th>spa</th>\n",
       "      <th>srp</th>\n",
       "      <th>swe</th>\n",
       "      <th>tur</th>\n",
       "      <th>wel</th>\n",
       "      <th>zho</th>\n",
       "      <th>average_rating</th>\n",
       "      <th>ratings_count</th>\n",
       "    </tr>\n",
       "  </thead>\n",
       "  <tbody>\n",
       "    <tr>\n",
       "      <th>0</th>\n",
       "      <td>0</td>\n",
       "      <td>0</td>\n",
       "      <td>0</td>\n",
       "      <td>0</td>\n",
       "      <td>1</td>\n",
       "      <td>0</td>\n",
       "      <td>0</td>\n",
       "      <td>0</td>\n",
       "      <td>0</td>\n",
       "      <td>0</td>\n",
       "      <td>...</td>\n",
       "      <td>0</td>\n",
       "      <td>0</td>\n",
       "      <td>0</td>\n",
       "      <td>0</td>\n",
       "      <td>0</td>\n",
       "      <td>0</td>\n",
       "      <td>0</td>\n",
       "      <td>0</td>\n",
       "      <td>4.57</td>\n",
       "      <td>2095690</td>\n",
       "    </tr>\n",
       "    <tr>\n",
       "      <th>1</th>\n",
       "      <td>0</td>\n",
       "      <td>0</td>\n",
       "      <td>0</td>\n",
       "      <td>0</td>\n",
       "      <td>1</td>\n",
       "      <td>0</td>\n",
       "      <td>0</td>\n",
       "      <td>0</td>\n",
       "      <td>0</td>\n",
       "      <td>0</td>\n",
       "      <td>...</td>\n",
       "      <td>0</td>\n",
       "      <td>0</td>\n",
       "      <td>0</td>\n",
       "      <td>0</td>\n",
       "      <td>0</td>\n",
       "      <td>0</td>\n",
       "      <td>0</td>\n",
       "      <td>0</td>\n",
       "      <td>4.49</td>\n",
       "      <td>2153167</td>\n",
       "    </tr>\n",
       "    <tr>\n",
       "      <th>2</th>\n",
       "      <td>0</td>\n",
       "      <td>0</td>\n",
       "      <td>0</td>\n",
       "      <td>0</td>\n",
       "      <td>1</td>\n",
       "      <td>0</td>\n",
       "      <td>0</td>\n",
       "      <td>0</td>\n",
       "      <td>0</td>\n",
       "      <td>0</td>\n",
       "      <td>...</td>\n",
       "      <td>0</td>\n",
       "      <td>0</td>\n",
       "      <td>0</td>\n",
       "      <td>0</td>\n",
       "      <td>0</td>\n",
       "      <td>0</td>\n",
       "      <td>0</td>\n",
       "      <td>0</td>\n",
       "      <td>4.42</td>\n",
       "      <td>6333</td>\n",
       "    </tr>\n",
       "    <tr>\n",
       "      <th>3</th>\n",
       "      <td>0</td>\n",
       "      <td>0</td>\n",
       "      <td>0</td>\n",
       "      <td>0</td>\n",
       "      <td>1</td>\n",
       "      <td>0</td>\n",
       "      <td>0</td>\n",
       "      <td>0</td>\n",
       "      <td>0</td>\n",
       "      <td>0</td>\n",
       "      <td>...</td>\n",
       "      <td>0</td>\n",
       "      <td>0</td>\n",
       "      <td>0</td>\n",
       "      <td>0</td>\n",
       "      <td>0</td>\n",
       "      <td>0</td>\n",
       "      <td>0</td>\n",
       "      <td>0</td>\n",
       "      <td>4.56</td>\n",
       "      <td>2339585</td>\n",
       "    </tr>\n",
       "    <tr>\n",
       "      <th>4</th>\n",
       "      <td>0</td>\n",
       "      <td>0</td>\n",
       "      <td>0</td>\n",
       "      <td>0</td>\n",
       "      <td>1</td>\n",
       "      <td>0</td>\n",
       "      <td>0</td>\n",
       "      <td>0</td>\n",
       "      <td>0</td>\n",
       "      <td>0</td>\n",
       "      <td>...</td>\n",
       "      <td>0</td>\n",
       "      <td>0</td>\n",
       "      <td>0</td>\n",
       "      <td>0</td>\n",
       "      <td>0</td>\n",
       "      <td>0</td>\n",
       "      <td>0</td>\n",
       "      <td>0</td>\n",
       "      <td>4.78</td>\n",
       "      <td>41428</td>\n",
       "    </tr>\n",
       "  </tbody>\n",
       "</table>\n",
       "<p>5 rows × 34 columns</p>\n",
       "</div>"
      ],
      "text/plain": [
       "   between 0 and 1  between 1 and 2  between 2 and 3  between 3 and 4  \\\n",
       "0                0                0                0                0   \n",
       "1                0                0                0                0   \n",
       "2                0                0                0                0   \n",
       "3                0                0                0                0   \n",
       "4                0                0                0                0   \n",
       "\n",
       "   between 4 and 5  ale  ara  en-CA  en-GB  en-US  ...  por  rus  spa  srp  \\\n",
       "0                1    0    0      0      0      0  ...    0    0    0    0   \n",
       "1                1    0    0      0      0      0  ...    0    0    0    0   \n",
       "2                1    0    0      0      0      0  ...    0    0    0    0   \n",
       "3                1    0    0      0      0      0  ...    0    0    0    0   \n",
       "4                1    0    0      0      0      0  ...    0    0    0    0   \n",
       "\n",
       "   swe  tur  wel  zho  average_rating  ratings_count  \n",
       "0    0    0    0    0            4.57        2095690  \n",
       "1    0    0    0    0            4.49        2153167  \n",
       "2    0    0    0    0            4.42           6333  \n",
       "3    0    0    0    0            4.56        2339585  \n",
       "4    0    0    0    0            4.78          41428  \n",
       "\n",
       "[5 rows x 34 columns]"
      ]
     },
     "execution_count": 24,
     "metadata": {},
     "output_type": "execute_result"
    }
   ],
   "source": [
    "features.head()"
   ]
  },
  {
   "cell_type": "code",
   "execution_count": 25,
   "id": "b081c938",
   "metadata": {
    "execution": {
     "iopub.execute_input": "2021-12-09T06:38:56.033405Z",
     "iopub.status.busy": "2021-12-09T06:38:56.031842Z",
     "iopub.status.idle": "2021-12-09T06:38:56.047309Z",
     "shell.execute_reply": "2021-12-09T06:38:56.047810Z",
     "shell.execute_reply.started": "2021-12-09T06:27:54.387447Z"
    },
    "papermill": {
     "duration": 0.053059,
     "end_time": "2021-12-09T06:38:56.047989",
     "exception": false,
     "start_time": "2021-12-09T06:38:55.994930",
     "status": "completed"
    },
    "tags": []
   },
   "outputs": [],
   "source": [
    "features = MinMaxScaler().fit_transform(features)"
   ]
  },
  {
   "cell_type": "code",
   "execution_count": 26,
   "id": "d5473876",
   "metadata": {
    "execution": {
     "iopub.execute_input": "2021-12-09T06:38:56.120344Z",
     "iopub.status.busy": "2021-12-09T06:38:56.119428Z",
     "iopub.status.idle": "2021-12-09T06:38:56.125022Z",
     "shell.execute_reply": "2021-12-09T06:38:56.125574Z",
     "shell.execute_reply.started": "2021-12-09T06:28:17.254605Z"
    },
    "papermill": {
     "duration": 0.043711,
     "end_time": "2021-12-09T06:38:56.125747",
     "exception": false,
     "start_time": "2021-12-09T06:38:56.082036",
     "status": "completed"
    },
    "tags": []
   },
   "outputs": [
    {
     "data": {
      "text/plain": [
       "array([[0.00000000e+00, 0.00000000e+00, 0.00000000e+00, ...,\n",
       "        0.00000000e+00, 9.14000000e-01, 4.55816060e-01],\n",
       "       [0.00000000e+00, 0.00000000e+00, 0.00000000e+00, ...,\n",
       "        0.00000000e+00, 8.98000000e-01, 4.68317403e-01],\n",
       "       [0.00000000e+00, 0.00000000e+00, 0.00000000e+00, ...,\n",
       "        0.00000000e+00, 8.84000000e-01, 1.37743803e-03],\n",
       "       ...,\n",
       "       [0.00000000e+00, 0.00000000e+00, 0.00000000e+00, ...,\n",
       "        0.00000000e+00, 7.92000000e-01, 1.78351363e-04],\n",
       "       [0.00000000e+00, 0.00000000e+00, 0.00000000e+00, ...,\n",
       "        0.00000000e+00, 7.44000000e-01, 1.67258779e-04],\n",
       "       [0.00000000e+00, 0.00000000e+00, 0.00000000e+00, ...,\n",
       "        0.00000000e+00, 7.82000000e-01, 2.45776879e-05]])"
      ]
     },
     "execution_count": 26,
     "metadata": {},
     "output_type": "execute_result"
    }
   ],
   "source": [
    "features"
   ]
  },
  {
   "cell_type": "code",
   "execution_count": 27,
   "id": "ea694621",
   "metadata": {
    "execution": {
     "iopub.execute_input": "2021-12-09T06:38:56.199323Z",
     "iopub.status.busy": "2021-12-09T06:38:56.198312Z",
     "iopub.status.idle": "2021-12-09T06:38:59.890404Z",
     "shell.execute_reply": "2021-12-09T06:38:59.889385Z",
     "shell.execute_reply.started": "2021-12-09T06:34:11.784279Z"
    },
    "papermill": {
     "duration": 3.730784,
     "end_time": "2021-12-09T06:38:59.890592",
     "exception": false,
     "start_time": "2021-12-09T06:38:56.159808",
     "status": "completed"
    },
    "tags": []
   },
   "outputs": [],
   "source": [
    "model = neighbors.NearestNeighbors(n_neighbors=6, algorithm='ball_tree')\n",
    "model.fit(features)\n",
    "dist, idlist = model.kneighbors(features)"
   ]
  },
  {
   "cell_type": "code",
   "execution_count": 28,
   "id": "442e0abf",
   "metadata": {
    "execution": {
     "iopub.execute_input": "2021-12-09T06:38:59.962688Z",
     "iopub.status.busy": "2021-12-09T06:38:59.961679Z",
     "iopub.status.idle": "2021-12-09T06:38:59.963871Z",
     "shell.execute_reply": "2021-12-09T06:38:59.964301Z",
     "shell.execute_reply.started": "2021-12-09T06:36:44.781785Z"
    },
    "papermill": {
     "duration": 0.040621,
     "end_time": "2021-12-09T06:38:59.964525",
     "exception": false,
     "start_time": "2021-12-09T06:38:59.923904",
     "status": "completed"
    },
    "tags": []
   },
   "outputs": [],
   "source": [
    "def BookRecommender(book_name):\n",
    "    book_list_name = []\n",
    "    book_id = df_book[df_book['title'] ==  book_name].index\n",
    "    book_id = book_id[0]\n",
    "    for newid in idlist[book_id]:\n",
    "        book_list_name.append(book_df.loc[newid].title)\n",
    "    return book_list_name\n"
   ]
  },
  {
   "cell_type": "code",
   "execution_count": 29,
   "id": "eff23e26",
   "metadata": {
    "execution": {
     "iopub.execute_input": "2021-12-09T06:39:00.038507Z",
     "iopub.status.busy": "2021-12-09T06:39:00.037351Z",
     "iopub.status.idle": "2021-12-09T06:39:00.047063Z",
     "shell.execute_reply": "2021-12-09T06:39:00.046531Z",
     "shell.execute_reply.started": "2021-12-09T06:36:46.796516Z"
    },
    "papermill": {
     "duration": 0.050158,
     "end_time": "2021-12-09T06:39:00.047214",
     "exception": false,
     "start_time": "2021-12-09T06:38:59.997056",
     "status": "completed"
    },
    "tags": []
   },
   "outputs": [
    {
     "data": {
      "text/plain": [
       "['Harry Potter and the Half-Blood Prince (Harry Potter  #6)',\n",
       " 'Harry Potter and the Order of the Phoenix (Harry Potter  #5)',\n",
       " 'The Fellowship of the Ring (The Lord of the Rings  #1)',\n",
       " 'Harry Potter and the Chamber of Secrets (Harry Potter  #2)',\n",
       " 'Harry Potter and the Prisoner of Azkaban (Harry Potter  #3)',\n",
       " 'The Lightning Thief (Percy Jackson and the Olympians  #1)']"
      ]
     },
     "execution_count": 29,
     "metadata": {},
     "output_type": "execute_result"
    }
   ],
   "source": [
    "BookNames = BookRecommender('Harry Potter and the Half-Blood Prince (Harry Potter  #6)')\n",
    "BookNames"
   ]
  },
  {
   "cell_type": "code",
   "execution_count": null,
   "id": "9d1d1397",
   "metadata": {
    "papermill": {
     "duration": 0.033739,
     "end_time": "2021-12-09T06:39:00.115449",
     "exception": false,
     "start_time": "2021-12-09T06:39:00.081710",
     "status": "completed"
    },
    "tags": []
   },
   "outputs": [],
   "source": []
  },
  {
   "cell_type": "code",
   "execution_count": null,
   "id": "0488a6a2",
   "metadata": {},
   "outputs": [],
   "source": []
  }
 ],
 "metadata": {
  "kernelspec": {
   "display_name": "Python 3 (ipykernel)",
   "language": "python",
   "name": "python3"
  },
  "language_info": {
   "codemirror_mode": {
    "name": "ipython",
    "version": 3
   },
   "file_extension": ".py",
   "mimetype": "text/x-python",
   "name": "python",
   "nbconvert_exporter": "python",
   "pygments_lexer": "ipython3",
   "version": "3.9.12"
  },
  "papermill": {
   "default_parameters": {},
   "duration": 20.249788,
   "end_time": "2021-12-09T06:39:00.960833",
   "environment_variables": {},
   "exception": null,
   "input_path": "__notebook__.ipynb",
   "output_path": "__notebook__.ipynb",
   "parameters": {},
   "start_time": "2021-12-09T06:38:40.711045",
   "version": "2.3.3"
  }
 },
 "nbformat": 4,
 "nbformat_minor": 5
}
